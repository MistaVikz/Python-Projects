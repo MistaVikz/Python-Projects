{
 "cells": [
  {
   "cell_type": "code",
   "execution_count": 58,
   "id": "6e86b1e8-a3fa-4b09-982f-795f218bd1a6",
   "metadata": {
    "executionCancelledAt": null,
    "executionTime": null,
    "lastExecutedAt": null,
    "lastScheduledRunId": null,
    "lastSuccessfullyExecutedCode": null,
    "outputsMetadata": {
     "0": {
      "height": 198,
      "type": "dataFrame"
     }
    }
   },
   "outputs": [],
   "source": [
    "import collections\n",
    "def decode(message_file):\n",
    "    \"\"\" For a given message file, decode the message by printing out only the words on the right side of the triangle.\n",
    "    param message_file: A text file with a number and a corresponding word on every line.\n",
    "    return: a string containing the words on the right side of the pyramid separated by spaces.\n",
    "    \"\"\"\n",
    "    \n",
    "    code={}\n",
    "    # Read the file line by line. Split each line into a list with space as a delimiter then build and sort the code dictionary.\n",
    "    with open(message_file, \"r\") as file:\n",
    "        for line in file:\n",
    "            l=line.split()\n",
    "            code[int(l[0])]=l[1]\n",
    "    s_code=collections.OrderedDict(sorted(code.items()))\n",
    "\n",
    "    i=0\n",
    "    step=0\n",
    "    right=[]\n",
    "    # For every level of the pyramid, step increases by one. Itterate though len(s_code) to store the index of the right side of each level of the pyramid.  \n",
    "    while i < len(s_code)-1:\n",
    "        i+=step\n",
    "        right.append(i+1)\n",
    "        i+=1\n",
    "        step+=1\n",
    "\n",
    "    message=\"\"\n",
    "    # if a key in code is also in right, it is on the right side of the pyramid so append its value to message\n",
    "    for i, key in enumerate(s_code.keys()):\n",
    "        if (i+1) in right:\n",
    "            message=message + s_code[key] + \" \"\n",
    "    \n",
    "    # Return the message without a trailing space\n",
    "    return message.rstrip()"
   ]
  },
  {
   "cell_type": "code",
   "execution_count": 60,
   "id": "adc05611-4f58-4d58-a767-ca973e3cc331",
   "metadata": {},
   "outputs": [
    {
     "name": "stdout",
     "output_type": "stream",
     "text": [
      "good beat bird center moment office strong her people about people temperature whole produce blow corn now meant possible reach speed the drink like\n"
     ]
    }
   ],
   "source": [
    "print(decode(\"coding_qual_input.txt\"))"
   ]
  },
  {
   "cell_type": "code",
   "execution_count": null,
   "id": "5924d437-d07f-46d4-8523-e209f4775aef",
   "metadata": {},
   "outputs": [],
   "source": []
  }
 ],
 "metadata": {
  "colab": {
   "name": "Welcome to DataCamp Workspaces.ipynb",
   "provenance": []
  },
  "kernelspec": {
   "display_name": "Python 3 (ipykernel)",
   "language": "python",
   "name": "python3"
  },
  "language_info": {
   "codemirror_mode": {
    "name": "ipython",
    "version": 3
   },
   "file_extension": ".py",
   "mimetype": "text/x-python",
   "name": "python",
   "nbconvert_exporter": "python",
   "pygments_lexer": "ipython3",
   "version": "3.11.5"
  }
 },
 "nbformat": 4,
 "nbformat_minor": 5
}
